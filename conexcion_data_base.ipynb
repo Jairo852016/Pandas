{
 "cells": [
  {
   "cell_type": "code",
   "execution_count": 2,
   "metadata": {},
   "outputs": [
    {
     "ename": "ModuleNotFoundError",
     "evalue": "No module named 'psycopg2'",
     "output_type": "error",
     "traceback": [
      "\u001b[1;31m---------------------------------------------------------------------------\u001b[0m",
      "\u001b[1;31mModuleNotFoundError\u001b[0m                       Traceback (most recent call last)",
      "\u001b[1;32mc:\\Users\\casa\\Documents\\Platzi\\Pandas\\conexcion_data_base.ipynb Cell 1'\u001b[0m in \u001b[0;36m<cell line: 2>\u001b[1;34m()\u001b[0m\n\u001b[0;32m      <a href='vscode-notebook-cell:/c%3A/Users/casa/Documents/Platzi/Pandas/conexcion_data_base.ipynb#ch0000000?line=0'>1</a>\u001b[0m \u001b[39mimport\u001b[39;00m \u001b[39mpandas\u001b[39;00m \u001b[39mas\u001b[39;00m \u001b[39mpd\u001b[39;00m\n\u001b[1;32m----> <a href='vscode-notebook-cell:/c%3A/Users/casa/Documents/Platzi/Pandas/conexcion_data_base.ipynb#ch0000000?line=1'>2</a>\u001b[0m \u001b[39mimport\u001b[39;00m \u001b[39mpsycopg2\u001b[39;00m\n",
      "\u001b[1;31mModuleNotFoundError\u001b[0m: No module named 'psycopg2'"
     ]
    }
   ],
   "source": [
    "import pandas as pd\n",
    "import psycopg2"
   ]
  },
  {
   "cell_type": "code",
   "execution_count": null,
   "metadata": {},
   "outputs": [],
   "source": [
    "conn_sql = psycopg2.connect(user = \"user_name\",\n",
    "                            password = \"password\",\n",
    "                            host = \"xxx.xxx.xxx.xxx\",\n",
    "                            port = \"5432\",\n",
    "                            database = \"postgres_db_name\")"
   ]
  },
  {
   "cell_type": "code",
   "execution_count": 3,
   "metadata": {},
   "outputs": [],
   "source": [
    "query_sql = '''\n",
    "select *\n",
    "from table_name\n",
    "limit 10\n",
    "'''"
   ]
  },
  {
   "cell_type": "code",
   "execution_count": null,
   "metadata": {},
   "outputs": [],
   "source": [
    "df = pd.read_sql(query_sql, sql_conn)\n",
    "df.head(5)"
   ]
  },
  {
   "cell_type": "markdown",
   "metadata": {},
   "source": [
    "SQL SERVER"
   ]
  },
  {
   "cell_type": "code",
   "execution_count": null,
   "metadata": {},
   "outputs": [],
   "source": [
    "import pandas as pd\n",
    "import pyodbc"
   ]
  },
  {
   "cell_type": "code",
   "execution_count": null,
   "metadata": {},
   "outputs": [],
   "source": [
    "driver = '{SQL Server}'\n",
    "server_name = 'server_name'\n",
    "db_name = 'database_name'\n",
    "user = 'user'\n",
    "password = 'password'\n",
    "sql_conn = pyodbc.connect('''\n",
    "DRIVER={};SERVER={};DATABASE={};UID={};PWD={};\n",
    "Trusted_Connection=yes\n",
    "'''.format(driver, server_name, db_name, user, password))"
   ]
  },
  {
   "cell_type": "code",
   "execution_count": null,
   "metadata": {},
   "outputs": [],
   "source": [
    "dsn = 'odbc_datasource_name'\n",
    "sql_conn = pyodbc.connect('''\n",
    "DSN={};UID={};PWD={};Trusted_Connection=yes;\n",
    "'''.format(dsn, user, password))\n",
    "Seguido simplemente definimos nuestra query en SQL:\t\n",
    "query_sql = 'select * from table_name limit 10'"
   ]
  },
  {
   "cell_type": "code",
   "execution_count": null,
   "metadata": {},
   "outputs": [],
   "source": [
    "df = pd.read_sql(query_sql, sql_conn)\n",
    "df.head(5)"
   ]
  },
  {
   "cell_type": "markdown",
   "metadata": {},
   "source": [
    "Mysql/Oracle/otras"
   ]
  },
  {
   "cell_type": "code",
   "execution_count": null,
   "metadata": {},
   "outputs": [],
   "source": [
    "import pandas as pd\n",
    "import sqlalchemy as sql\n",
    "Escogemos nuestra base de datos, Oracle, MySql o la de tu preferencia:\n",
    "database_type = 'mysql'\n",
    "database_type = 'oracle'"
   ]
  },
  {
   "cell_type": "code",
   "execution_count": null,
   "metadata": {},
   "outputs": [],
   "source": [
    "user = 'user_name'\n",
    "password = 'password'\n",
    "host = 'xxx.xxx.xxx.xxx:port'\n",
    "database = 'database_name'\n",
    "\n",
    "conn_string = '{}://{}:{}@{}/{}'.format(\n",
    "database_type, user, password, host, database)\n",
    "\n",
    "sql_conn = sql.create_engine(conn_string)"
   ]
  },
  {
   "cell_type": "code",
   "execution_count": null,
   "metadata": {},
   "outputs": [],
   "source": [
    "query_sql = '''\n",
    "select *\n",
    "from table_name\n",
    "limit 10\n",
    "'''"
   ]
  },
  {
   "cell_type": "code",
   "execution_count": null,
   "metadata": {},
   "outputs": [],
   "source": [
    "df = pd.read_sql(query_sql, sql_conn)\n",
    "df.head(5)"
   ]
  }
 ],
 "metadata": {
  "interpreter": {
   "hash": "6da623111d60caf10d2d5931f4313576919bb48aa2a8b1e222bc92d2ecf2f572"
  },
  "kernelspec": {
   "display_name": "Python 3.9.7 ('venv': venv)",
   "language": "python",
   "name": "python3"
  },
  "language_info": {
   "codemirror_mode": {
    "name": "ipython",
    "version": 3
   },
   "file_extension": ".py",
   "mimetype": "text/x-python",
   "name": "python",
   "nbconvert_exporter": "python",
   "pygments_lexer": "ipython3",
   "version": "3.9.7"
  },
  "orig_nbformat": 4
 },
 "nbformat": 4,
 "nbformat_minor": 2
}
